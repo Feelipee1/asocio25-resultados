{
 "cells": [
  {
   "cell_type": "markdown",
   "id": "2972142c",
   "metadata": {},
   "source": [
    "## Exploracion del dataframe de la funcion loader.py"
   ]
  },
  {
   "cell_type": "code",
   "execution_count": 3,
   "id": "c2915d0a",
   "metadata": {},
   "outputs": [],
   "source": [
    "# Cargar librerias\n",
    "\n",
    "import os\n",
    "import pandas as pd\n",
    "import matplotlib.pyplot as plt\n",
    "import seaborn as sns\n",
    "sns.set(style='whitegrid')"
   ]
  },
  {
   "cell_type": "markdown",
   "id": "026b157f",
   "metadata": {},
   "source": [
    "Importar la funcion desde loader.py"
   ]
  },
  {
   "cell_type": "code",
   "execution_count": 2,
   "id": "448c16c1",
   "metadata": {},
   "outputs": [
    {
     "data": {
      "text/html": [
       "<div>\n",
       "<style scoped>\n",
       "    .dataframe tbody tr th:only-of-type {\n",
       "        vertical-align: middle;\n",
       "    }\n",
       "\n",
       "    .dataframe tbody tr th {\n",
       "        vertical-align: top;\n",
       "    }\n",
       "\n",
       "    .dataframe thead th {\n",
       "        text-align: right;\n",
       "    }\n",
       "</style>\n",
       "<table border=\"1\" class=\"dataframe\">\n",
       "  <thead>\n",
       "    <tr style=\"text-align: right;\">\n",
       "      <th></th>\n",
       "      <th>Instancia</th>\n",
       "      <th>Slack total</th>\n",
       "      <th>Días asignados</th>\n",
       "      <th>Empleados asignados</th>\n",
       "    </tr>\n",
       "  </thead>\n",
       "  <tbody>\n",
       "    <tr>\n",
       "      <th>0</th>\n",
       "      <td>instance10_900s_resultado</td>\n",
       "      <td>22</td>\n",
       "      <td>148</td>\n",
       "      <td>91</td>\n",
       "    </tr>\n",
       "    <tr>\n",
       "      <th>1</th>\n",
       "      <td>instance1_900s_resultado</td>\n",
       "      <td>2</td>\n",
       "      <td>36</td>\n",
       "      <td>20</td>\n",
       "    </tr>\n",
       "    <tr>\n",
       "      <th>2</th>\n",
       "      <td>instance2_900s_resultado</td>\n",
       "      <td>2</td>\n",
       "      <td>39</td>\n",
       "      <td>19</td>\n",
       "    </tr>\n",
       "    <tr>\n",
       "      <th>3</th>\n",
       "      <td>instance3_900s_resultado</td>\n",
       "      <td>1</td>\n",
       "      <td>76</td>\n",
       "      <td>40</td>\n",
       "    </tr>\n",
       "    <tr>\n",
       "      <th>4</th>\n",
       "      <td>instance4_900s_resultado</td>\n",
       "      <td>0</td>\n",
       "      <td>82</td>\n",
       "      <td>40</td>\n",
       "    </tr>\n",
       "  </tbody>\n",
       "</table>\n",
       "</div>"
      ],
      "text/plain": [
       "                   Instancia  Slack total  Días asignados  Empleados asignados\n",
       "0  instance10_900s_resultado           22             148                   91\n",
       "1   instance1_900s_resultado            2              36                   20\n",
       "2   instance2_900s_resultado            2              39                   19\n",
       "3   instance3_900s_resultado            1              76                   40\n",
       "4   instance4_900s_resultado            0              82                   40"
      ]
     },
     "execution_count": 2,
     "metadata": {},
     "output_type": "execute_result"
    }
   ],
   "source": [
    "import sys\n",
    "sys.path.append('../src')\n",
    "from analysis.loader import cargar_resultados_multiples_xlsx\n",
    "\n",
    "df = cargar_resultados_multiples_xlsx(directorio=\"../data\")\n",
    "df.head()"
   ]
  },
  {
   "cell_type": "code",
   "execution_count": 5,
   "id": "c61bb6ea",
   "metadata": {},
   "outputs": [
    {
     "name": "stderr",
     "output_type": "stream",
     "text": [
      "C:\\Users\\PC\\AppData\\Local\\Temp\\ipykernel_5504\\2586647311.py:5: FutureWarning: \n",
      "\n",
      "Passing `palette` without assigning `hue` is deprecated and will be removed in v0.14.0. Assign the `x` variable to `hue` and set `legend=False` for the same effect.\n",
      "\n",
      "  sns.barplot(x='Num instancia', y='Slack total', data=df, palette='viridis')\n"
     ]
    },
    {
     "data": {
      "image/png": "[encoded data removed]",
      "text/plain": [
       "<Figure size 1200x600 with 1 Axes>"
      ]
     },
     "metadata": {},
     "output_type": "display_data"
    }
   ],
   "source": [
    "# Graficos de Slack total por instancia\n",
    "plt.figure(figsize=(12, 6))\n",
    "# Extraer solo el número de la instancia para el eje x\n",
    "df['Num instancia'] = df['Instancia'].str.extract(r'instance(\\d+)_')[0].astype(int)\n",
    "sns.barplot(x='Num instancia', y='Slack total', data=df, palette='viridis')\n",
    "plt.xlabel('Instancia')\n",
    "plt.show()\n"
   ]
  }
 ],
 "metadata": {
  "kernelspec": {
   "display_name": "Python 3",
   "language": "python",
   "name": "python3"
  },
  "language_info": {
   "codemirror_mode": {
    "name": "ipython",
    "version": 3
   },
   "file_extension": ".py",
   "mimetype": "text/x-python",
   "name": "python",
   "nbconvert_exporter": "python",
   "pygments_lexer": "ipython3",
   "version": "3.12.10"
  }
 },
 "nbformat": 4,
 "nbformat_minor": 5
}
